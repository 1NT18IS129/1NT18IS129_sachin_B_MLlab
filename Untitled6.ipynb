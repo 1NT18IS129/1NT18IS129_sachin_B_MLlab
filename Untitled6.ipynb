{
 "cells": [
  {
   "cell_type": "code",
   "execution_count": 1,
   "id": "90ddb95d",
   "metadata": {},
   "outputs": [
    {
     "name": "stdout",
     "output_type": "stream",
     "text": [
      "enter n4\n",
      "Enter the no.2\n",
      "Enter the no.6\n",
      "Enter the no.4\n",
      "Enter the no.8\n",
      "[2, 6, 4, 8]\n"
     ]
    }
   ],
   "source": [
    "n=int(input(\"enter n\"))\n",
    "array=[None]*n ;\n",
    "for i in range(n):\n",
    "    num=int(input(\"Enter the no.\"))\n",
    "    array[i]=num\n",
    "print(array)"
   ]
  },
  {
   "cell_type": "code",
   "execution_count": 2,
   "id": "e9516b92",
   "metadata": {},
   "outputs": [
    {
     "name": "stdout",
     "output_type": "stream",
     "text": [
      "mean is 5.0\n"
     ]
    }
   ],
   "source": [
    "#mean\n",
    "sum=0\n",
    "for i in range(n):\n",
    "    sum=sum+array[i]\n",
    "    \n",
    "mean=sum/n\n",
    "print(\"mean is\",mean)"
   ]
  },
  {
   "cell_type": "code",
   "execution_count": 3,
   "id": "a292b8ff",
   "metadata": {},
   "outputs": [
    {
     "name": "stdout",
     "output_type": "stream",
     "text": [
      "5\n"
     ]
    }
   ],
   "source": [
    "#meadian\n",
    "if(n%2!=0):\n",
    "    print(int(array[int(n/2)]))\n",
    "if(n%2==0):\n",
    "    print(int((array[int(n/2)]+array[int((n-1)/2)])/2))"
   ]
  },
  {
   "cell_type": "code",
   "execution_count": 4,
   "id": "87e9cd9d",
   "metadata": {},
   "outputs": [
    {
     "name": "stdout",
     "output_type": "stream",
     "text": [
      "Minimum no. 2\n",
      "Maximum No. 8\n",
      "1  normalization value is  0.0\n",
      "2  normalization value is  0.6666666666666666\n",
      "3  normalization value is  0.3333333333333333\n",
      "4  normalization value is  1.0\n"
     ]
    }
   ],
   "source": [
    "#Normalization\n",
    "min=array[0]\n",
    "max=array[0]\n",
    "for i in range(1,n):\n",
    "    if(min>array[i]):\n",
    "        min=array[i]\n",
    "    if(max<array[i]):\n",
    "        max=array[i]\n",
    "print(\"Minimum no.\",min)\n",
    "print(\"Maximum No.\",max)\n",
    "for i in range(n):\n",
    "    x=(array[i]-min)/(max-min)\n",
    "    print(i+1,\" normalization value is \", x)\n"
   ]
  },
  {
   "cell_type": "code",
   "execution_count": 5,
   "id": "4f7fed54",
   "metadata": {},
   "outputs": [
    {
     "name": "stdout",
     "output_type": "stream",
     "text": [
      "satandardization is  -1.3416407864998738\n",
      "satandardization is  0.4472135954999579\n",
      "satandardization is  -0.4472135954999579\n",
      "satandardization is  1.3416407864998738\n"
     ]
    }
   ],
   "source": [
    "#standardiztion\n",
    "import math\n",
    "sum=0\n",
    "for i in range(n):\n",
    "    sum+=(array[i]-mean)**2\n",
    "sd=math.sqrt(sum/n)\n",
    "for i in range(n):\n",
    "    val=(array[i]-mean)/sd\n",
    "    print(\"satandardization is \",val)"
   ]
  },
  {
   "cell_type": "code",
   "execution_count": 11,
   "id": "ebeae4e0",
   "metadata": {},
   "outputs": [
    {
     "name": "stdout",
     "output_type": "stream",
     "text": [
      "enter the row size3\n",
      "enter the column size2\n",
      "Enter the entries rowwise:\n",
      "1\n",
      "2\n",
      "3\n",
      "4\n",
      "5\n",
      "6\n"
     ]
    }
   ],
   "source": [
    "r=int(input(\"enter the row size\"))\n",
    "#c=int(input(\"enter the column size\"))\n",
    "matrix = []\n",
    "print(\"Enter the entries rowwise:\")\n",
    "  \n",
    "for i in range(r):         \n",
    "    a =[]\n",
    "    for j in range(2):      \n",
    "         a.append(int(input()))\n",
    "    matrix.append(a)"
   ]
  },
  {
   "cell_type": "code",
   "execution_count": 12,
   "id": "14ea9353",
   "metadata": {},
   "outputs": [
    {
     "name": "stdout",
     "output_type": "stream",
     "text": [
      "1 2 \n",
      "3 4 \n",
      "5 6 \n"
     ]
    }
   ],
   "source": [
    "for i in range(r):\n",
    "    for j in range(c):\n",
    "        print(matrix[i][j], end = \" \")\n",
    "    print()"
   ]
  },
  {
   "cell_type": "code",
   "execution_count": 14,
   "id": "294fb32f",
   "metadata": {},
   "outputs": [
    {
     "name": "stdout",
     "output_type": "stream",
     "text": [
      "2.8284271247461903\n"
     ]
    }
   ],
   "source": [
    "import math\n",
    "centroidx=matrix[0][0]\n",
    "centroidy=matrix[0][1]\n",
    "distance=math.sqrt((matrix[1][0]-centroidx)**2 + (matrix[1][1]-centroidy)**2)\n",
    "print(distance)"
   ]
  },
  {
   "cell_type": "code",
   "execution_count": null,
   "id": "3fd51201",
   "metadata": {},
   "outputs": [],
   "source": []
  }
 ],
 "metadata": {
  "kernelspec": {
   "display_name": "Python 3",
   "language": "python",
   "name": "python3"
  },
  "language_info": {
   "codemirror_mode": {
    "name": "ipython",
    "version": 3
   },
   "file_extension": ".py",
   "mimetype": "text/x-python",
   "name": "python",
   "nbconvert_exporter": "python",
   "pygments_lexer": "ipython3",
   "version": "3.8.8"
  }
 },
 "nbformat": 4,
 "nbformat_minor": 5
}
